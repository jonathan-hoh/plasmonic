{
 "cells": [
  {
   "cell_type": "code",
   "execution_count": 1,
   "metadata": {},
   "outputs": [],
   "source": [
    "#***********************************#\n",
    "#                                   #\n",
    "#             Packages              #        \n",
    "#                                   #\n",
    "#***********************************#\n",
    "\n",
    "import csv\n",
    "import allantools as allan\n",
    "import numpy as np\n",
    "import matplotlib.pyplot as plt\n",
    "import pandas as pd\n",
    "import allantools as AT"
   ]
  },
  {
   "cell_type": "code",
   "execution_count": 5,
   "metadata": {},
   "outputs": [],
   "source": [
    "#***********************************#\n",
    "#                                   #\n",
    "#             Constants             #        \n",
    "#                                   #\n",
    "#***********************************#\n",
    "\n",
    "\n",
    "\n",
    "#T_clk = 4*10**-7\n",
    "adc_clk = 512 * 10 ** 6\n",
    "T_adc = 1/(adc_clk)\n",
    "#adc_clk = 2.5 * 10 ** 7\n",
    "fpga_clk = 250 * 10 ** 6\n",
    "#fpga_clk = 250 * 10 ** 4\n",
    "FFT_length = 1024\n",
    "#FFT_length = 256\n",
    "run_time = 0.0596046448\n",
    "# for testing, consider a 100 MHz source\n",
    "source_freq = 100 * 10 ** 6 \n",
    "square_freq = 100 * 10 ** 3\n",
    "#source_freq = 0.55"
   ]
  },
  {
   "cell_type": "code",
   "execution_count": 6,
   "metadata": {},
   "outputs": [],
   "source": [
    "#***********************************#\n",
    "#                                   #\n",
    "#            Functions              #        \n",
    "#                                   #\n",
    "#***********************************#\n",
    "\n",
    "def real_wave(amp, freq, time):\n",
    "    omega = 2 * np.pi * freq    \n",
    "    wave = amp*np.cos(omega * time)\n",
    "    return wave\n",
    "\n",
    "def real_mix(wave_1, wave_2):\n",
    "    mix_wave = wave_1 * wave_2\n",
    "    return mix_wave\n",
    "    \n",
    "def fft(signal):\n",
    "    spectrum = np.fft.fft(signal, n = FFT_length)\n",
    "    return spectrum\n",
    "\n",
    "def noisify(signal):\n",
    "    w_noise = np.random.normal(0, .1, signal.shape)\n",
    "    noisy_spec = signal * w_noise\n",
    "    return noisy_spec\n",
    "\n",
    "def GET_TO_DA_CHOPPAH(signal, timespace):\n",
    "    sq_wave = 0.5 * (sig.square(2 * np.pi * square_freq * timespace) + 1)\n",
    "    chopped_wave = real_mix(signal, sq_wave)\n",
    "    return chopped_wave"
   ]
  },
  {
   "cell_type": "code",
   "execution_count": 7,
   "metadata": {},
   "outputs": [],
   "source": [
    "#***********************************#\n",
    "#                                   #\n",
    "#           Creating Time           #        \n",
    "#                                   #\n",
    "#***********************************#\n",
    "\n",
    "###########################\n",
    "#     Make FFT Frames     #\n",
    "###########################\n",
    "\n",
    "    ##### for a 1024 pt FFT, one FFT frame will take 1024/adc_clk (seconds) ##### \n",
    "\n",
    "# frame time = Time for 1 FFT to populate\n",
    "\n",
    "frame_time = FFT_length / (adc_clk)\n",
    "\n",
    "##### The number of fft frames to be created equals the                        #\n",
    "    #     run time of the test over the amount of time it takes to FFT a frame #####\n",
    "\n",
    "# ratio = number of FFT frames created over run time\n",
    "\n",
    "ratio = int(run_time/frame_time)\n",
    "frame_times = np.zeros(ratio)\n",
    "\n",
    "##### Create an array with the times of the FFT frames #####\n",
    "\n",
    "for i in range (ratio):                                 \n",
    "    \n",
    "    frame_times[i] = i * frame_time\n",
    "    \n",
    "    ##### Create an array of times that will be used to create the \"pieces\" of the wave #####\n",
    "\n",
    "timespace = np.zeros((ratio-1, FFT_length))\n",
    "\n",
    "    ##### Populate time array with lengths to be used later #####\n",
    "\n",
    "for i in range(ratio-1):\n",
    "    \n",
    "    timespace[i] = np.linspace(frame_times[i], frame_times[i+1], FFT_length)\n",
    "\n",
    "    ##### Make an array to store FFT frames #####\n",
    "    \n",
    "# Now create array which contains frequency span of FFT\n",
    "n = 1024\n",
    "# print(i_mix.size)\n",
    "timestep = 1/adc_clk\n",
    "# note this value comes from the linspace used for the time array. length/number of samples\n",
    "fft_freq = np.fft.fftfreq(n, d=timestep)\n",
    "\n",
    "fft_frames = np.zeros((ratio, FFT_length), dtype = complex)"
   ]
  },
  {
   "cell_type": "code",
   "execution_count": 8,
   "metadata": {},
   "outputs": [
    {
     "name": "stderr",
     "output_type": "stream",
     "text": [
      "C:\\Users\\hohjo\\Anaconda3\\lib\\site-packages\\numpy\\core\\numeric.py:538: ComplexWarning: Casting complex values to real discards the imaginary part\n",
      "  return array(a, dtype, copy=False, order=order)\n"
     ]
    },
    {
     "data": {
      "text/plain": [
       "[<matplotlib.lines.Line2D at 0x20097c580f0>]"
      ]
     },
     "execution_count": 8,
     "metadata": {},
     "output_type": "execute_result"
    },
    {
     "data": {
      "image/png": "[encoded data removed]",
      "text/plain": [
       "<Figure size 432x288 with 1 Axes>"
      ]
     },
     "metadata": {
      "needs_background": "light"
     },
     "output_type": "display_data"
    }
   ],
   "source": [
    "sig1 = real_wave(1, 20 * 10 ** 6, timespace)\n",
    "sig2 = real_wave(1, 50 * 10 ** 6, timespace)\n",
    "comb = sig1 + sig2\n",
    "plt.plot(fft(comb[10]))\n",
    "\n"
   ]
  },
  {
   "cell_type": "code",
   "execution_count": 9,
   "metadata": {},
   "outputs": [],
   "source": [
    "## Simulating the hoh_spec firmware ##\n",
    "\n",
    "accum_len = 2 ** 23    \n",
    "\n",
    "# create white noise equivalent to what is used in tests\n",
    "signal = np.zeros(np.shape(timespace))\n",
    "for i in range(ratio-1):\n",
    "    signal[i] = allan.noise.white(FFT_length, 0.1, adc_clk) #create large array of white noise\n",
    "\n",
    "# Now put the noise signal through PFB\n",
    "spectra = fft(signal)\n",
    "\n",
    "#t_streams = np.zeros((FFT_length, ratio-1), dtype=complex)\n",
    "#print(np.shape(t_streams))\n",
    "\n",
    "##### Slice and dice array to convert frames into time streams #####\n",
    "t_streams = np.transpose(spectra)\n",
    "\n",
    "# Now take the intensity of each of the time streams\n",
    "t_mags = np.real(t_streams)**2 + np.imag(t_streams)**2\n",
    "\n",
    "\n",
    "\n"
   ]
  },
  {
   "cell_type": "code",
   "execution_count": 10,
   "metadata": {},
   "outputs": [
    {
     "data": {
      "text/plain": [
       "(1024, 29801)"
      ]
     },
     "execution_count": 10,
     "metadata": {},
     "output_type": "execute_result"
    }
   ],
   "source": [
    "np.shape(t_mags)"
   ]
  },
  {
   "cell_type": "code",
   "execution_count": 11,
   "metadata": {},
   "outputs": [
    {
     "data": {
      "text/plain": [
       "29802"
      ]
     },
     "execution_count": 11,
     "metadata": {},
     "output_type": "execute_result"
    }
   ],
   "source": [
    "ratio"
   ]
  },
  {
   "cell_type": "code",
   "execution_count": 12,
   "metadata": {},
   "outputs": [
    {
     "data": {
      "text/plain": [
       "2e-06"
      ]
     },
     "execution_count": 12,
     "metadata": {},
     "output_type": "execute_result"
    }
   ],
   "source": [
    "frame_time"
   ]
  },
  {
   "cell_type": "code",
   "execution_count": null,
   "metadata": {},
   "outputs": [],
   "source": []
  }
 ],
 "metadata": {
  "kernelspec": {
   "display_name": "Python 3",
   "language": "python",
   "name": "python3"
  },
  "language_info": {
   "codemirror_mode": {
    "name": "ipython",
    "version": 3
   },
   "file_extension": ".py",
   "mimetype": "text/x-python",
   "name": "python",
   "nbconvert_exporter": "python",
   "pygments_lexer": "ipython3",
   "version": "3.7.3"
  }
 },
 "nbformat": 4,
 "nbformat_minor": 2
}
