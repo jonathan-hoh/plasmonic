{
 "cells": [
  {
   "cell_type": "code",
   "execution_count": 1,
   "metadata": {},
   "outputs": [],
   "source": [
    "# Jonathan Hoh\n",
    "# Started 10/30/2020\n",
    "# Python simulation of lock in digitization firmware\n",
    "\n",
    "# Outline for algorithm\n",
    "# Input: waveform (chopped) and digitized (how many bits?)\n",
    "# First function will mix together a sampled signal with a square wave\n",
    "## TODO: Add in white noise before the FFT and pink noise"
   ]
  },
  {
   "cell_type": "code",
   "execution_count": 2,
   "metadata": {},
   "outputs": [],
   "source": [
    "#***********************************#\n",
    "#                                   #\n",
    "#             Packages              #        \n",
    "#                                   #\n",
    "#***********************************#\n",
    "\n",
    "\n",
    "import dsp_py as dsp\n",
    "import numpy as np\n",
    "import colorednoise as cn\n",
    "import matplotlib.pyplot as plt\n",
    "from scipy import signal as sig \n"
   ]
  },
  {
   "cell_type": "code",
   "execution_count": 8,
   "metadata": {},
   "outputs": [],
   "source": [
    "#***********************************#\n",
    "#                                   #\n",
    "#             Constants             #        \n",
    "#                                   #\n",
    "#***********************************#\n",
    "\n",
    "\n",
    "T_clk = 4*10**-9\n",
    "adc_clk = 512 * 10 ** 6\n",
    "fpga_clk = 250 * 10 ** 6\n",
    "FFT_length = 1024\n",
    "run_time = 0.03\n",
    "source_freq = 0.5498 * 10 ** 12\n",
    "lo_freq = 0.55 * 10 ** 12 \n",
    "square_freq = 100 * 10 ** 3\n",
    "\n",
    "# time should equal n * T_clk\n",
    "# time array sets start a stop times along with resolution\n",
    "\n",
    "#if_freq = the frequency of the mixed signal leaving the plasmonic mixer\n",
    "if_freq = np.abs(lo_freq - source_freq)"
   ]
  },
  {
   "cell_type": "code",
   "execution_count": 9,
   "metadata": {},
   "outputs": [],
   "source": [
    "#***********************************#\n",
    "#                                   #\n",
    "#            Functions              #        \n",
    "#                                   #\n",
    "#***********************************#\n",
    "\n",
    "\n",
    "################################################\n",
    "# Wave generation function:                    #\n",
    "# Input: frequency and amount of time          #\n",
    "# Output : I and Q arrays for wave             #\n",
    "################################################\n",
    "\n",
    "def cool_wave(amp, freq, time):\n",
    "    omega = 2 * np.pi * freq    \n",
    "    wave = amp * np.exp(1j * omega * time)\n",
    "    i = np.real(wave)\n",
    "    q = np.imag(wave)\n",
    "    return i,q\n",
    "    \n",
    "\n",
    "#########################################################\n",
    "#    Complex multipler function:                        #\n",
    "#    Input: I_1, Q_1, I_2, Q_2                          #\n",
    "#    Output: Mixed wave in quadrature (I_mix, Q_mix)    #\n",
    "#########################################################\n",
    "\n",
    "def c_mult (I_1, Q_1, I_2, Q_2): \n",
    "    I_mix = I_1 * I_2 - Q_1 * Q_2 \n",
    "    Q_mix = I_1 * Q_2 + Q_1 * I_2 \n",
    "    return I_mix, Q_mix\n",
    "    \n",
    "################################################################################\n",
    "# the last numerical input here will represent the bit resolution of the wave  #\n",
    "# t = np.linspace(0, 1, 500, endpoint=False)                                   #\n",
    "# sqare_wave = sig.square(2 * np.pi * freq * t)                                #\n",
    "# here we get the frequency of the square wave we're creating                  # \n",
    "#plt.plot(t, sig.square(2 * np.pi * freq * t))                                 #\n",
    "#plt.ylim(-2, 2)                                                               #\n",
    "#plt.show()                                                                    #\n",
    "################################################################################\n"
   ]
  },
  {
   "cell_type": "code",
   "execution_count": 10,
   "metadata": {},
   "outputs": [],
   "source": [
    "#***********************************#\n",
    "#                                   #\n",
    "#     Main Script Starts Here       #        \n",
    "#                                   #\n",
    "#***********************************#\n",
    "\n",
    "\n",
    "###########################\n",
    "#     Make FFT Frames     #\n",
    "###########################\n",
    "\n",
    "    ##### for a 1024 pt FFT, one FFT frame will take 1024/adc_clk (seconds) ##### \n",
    "\n",
    "# frame time = Time for 1 FFT to populate\n",
    "\n",
    "frame_time = FFT_length / (adc_clk)\n",
    "\n",
    "    ##### The number of fft frames to be created equals the                        #\n",
    "    #     run time of the test over the amount of time it takes to FFT a frame #####\n",
    "\n",
    "# ratio = number of FFT frames created over run time\n",
    "\n",
    "ratio = int(run_time/frame_time)\n",
    "frame_times = np.zeros(ratio)\n",
    "\n",
    "    ##### Create an array with the times of the FFT frames #####\n",
    "\n",
    "for i in range (ratio):                                 \n",
    "    \n",
    "    frame_times[i] = i * frame_time\n",
    "    \n",
    "# Now create array which contains frequency span of FFT\n",
    "n = 1024\n",
    "# print(i_mix.size)\n",
    "timestep = 1/adc_clk\n",
    "# note this value comes from the linspace used for the time array. length/number of samples\n",
    "fft_freq = np.fft.fftfreq(n, d=timestep)"
   ]
  },
  {
   "cell_type": "code",
   "execution_count": 11,
   "metadata": {},
   "outputs": [],
   "source": [
    "    ##### Here we create an array which will hold the frequency range found in our FFT (for plotting and indexing) #####\n",
    "\n",
    "n = 1024\n",
    "timestep = 1/adc_clk\n",
    "\n",
    "# fft_freq = the frequencies that relate to the center of the FFT bins\n",
    "fft_freq = np.fft.fftfreq(n, d=timestep)"
   ]
  },
  {
   "cell_type": "code",
   "execution_count": 12,
   "metadata": {},
   "outputs": [
    {
     "name": "stdout",
     "output_type": "stream",
     "text": [
      "(14999, 1024)\n"
     ]
    }
   ],
   "source": [
    "    ##### Create an array of times that will be used to create the \"pieces\" of the wave #####\n",
    "\n",
    "times_1 = np.zeros((ratio-1, FFT_length))\n",
    "\n",
    "    ##### Populate time array with lengths to be used later #####\n",
    "\n",
    "for i in range(ratio-1):\n",
    "    \n",
    "     times_1[i] = np.linspace(frame_times[i], frame_times[i+1], FFT_length)\n",
    "    \n",
    "    ##### Make an array to store FFT frames #####\n",
    "\n",
    "fft_frames = np.zeros((ratio, FFT_length), dtype = complex)\n",
    "\n",
    "    ##### Now populate the FFT frames each with 1024 points of data #####\n",
    "\n",
    "# set wave frequency to 0.55 THz\n",
    "sig_i, sig_q = cool_wave(2, if_freq, times_1)\n",
    "print(np.shape(sig_i))"
   ]
  },
  {
   "cell_type": "code",
   "execution_count": 7,
   "metadata": {},
   "outputs": [],
   "source": [
    "    ##### Now add some white noise #####\n",
    "w_noise1 = np.random.normal(0, .1, sig_i.shape)     # white noise for observed signal\n",
    "w_noise2 = np.random.normal(0, .05, sig_i.shape)    # white noise for square wave (needs less)\n",
    "\n",
    "    ##### And some pink noise #####\n",
    "beta = 1                                            # the exponent for pink noise\n",
    "samples = sig_i.shape                               # number of samples to generate (mimic the dimensions of the signal)\n",
    "y = cn.powerlaw_psd_gaussian(beta, samples)\n",
    "\n",
    "    ##### Add the noise to the IQ signals for our realistic example #####\n",
    "    \n",
    "noisy_sig_i = sig_i + w_noise1 + y\n",
    "noisy_sig_q = sig_q + w_noise1 + y\n"
   ]
  },
  {
   "cell_type": "code",
   "execution_count": 8,
   "metadata": {},
   "outputs": [],
   "source": [
    "    ##### Now make the square wave #####\n",
    "\n",
    "# Since sig.square goes from -1 to 1, we have to tweak it to be 0 to 1 in order to mimic a chopper \n",
    "    \n",
    "sq_wave_i = 0.5 * (sig.square(2 * np.pi * square_freq * times_1) + 1) \n",
    "sq_wave_q = 0.5 * (sig.square(2 * np.pi * square_freq * times_1 + (np.pi/4)) + 1) \n",
    "\n",
    "    ##### Add a lil bit of white noise to the square waves just for kicks #####\n",
    "\n",
    "noisy_sq_i = sq_wave_i\n",
    "noisy_sq_q = sq_wave_q"
   ]
  },
  {
   "cell_type": "code",
   "execution_count": 9,
   "metadata": {},
   "outputs": [],
   "source": [
    "    ##### Now mix together square chop and signal wave #####\n",
    "\n",
    "i_mix_noise, q_mix_noise = c_mult(noisy_sig_i, noisy_sig_q, noisy_sq_i, noisy_sq_q)"
   ]
  },
  {
   "cell_type": "code",
   "execution_count": 10,
   "metadata": {},
   "outputs": [],
   "source": [
    "    ##### Take FFT of spectrum #####\n",
    "    \n",
    "noisy_spec = np.fft.fft(i_mix_noise + 1j*(q_mix_noise), n = FFT_length)\n",
    "\n",
    "fft_frames = (noisy_spec)\n",
    "    \n",
    "    ##### Turn this FFT into the power spectrum we will be tracking #####\n",
    "\n",
    "mags = np.sqrt(np.real(fft_frames)**2 + np.imag(fft_frames)**2)\n",
    "#print(np.shape(fft_frames))"
   ]
  },
  {
   "cell_type": "code",
   "execution_count": 11,
   "metadata": {
    "scrolled": true
   },
   "outputs": [],
   "source": [
    "####TESTING BLOCK####\n",
    "\n",
    "#max_bin = []\n",
    "#for i in range(int(ratio/2)):\n",
    "#    peak = np.where(mags[i] == mags[i].max())\n",
    "#    max_bin.append(peak)\n",
    "#print(max_bin)\n",
    "\n",
    "# It seems bin 82 is where we will find our peak for 200 MHz IF"
   ]
  },
  {
   "cell_type": "code",
   "execution_count": 12,
   "metadata": {},
   "outputs": [
    {
     "data": {
      "text/plain": [
       "[<matplotlib.lines.Line2D at 0x17188afa0f0>]"
      ]
     },
     "execution_count": 12,
     "metadata": {},
     "output_type": "execute_result"
    },
    {
     "data": {
      "image/png": "[encoded data removed]",
      "text/plain": [
       "<Figure size 432x288 with 1 Axes>"
      ]
     },
     "metadata": {
      "needs_background": "light"
     },
     "output_type": "display_data"
    }
   ],
   "source": [
    "####TESTING BLOCK####\n",
    "\n",
    "plt.plot(fft_freq, mags[82])\n",
    "#print(np.shape(mags))\n",
    "#print(np.shape(mags[2000]))"
   ]
  },
  {
   "cell_type": "code",
   "execution_count": 13,
   "metadata": {},
   "outputs": [
    {
     "name": "stdout",
     "output_type": "stream",
     "text": [
      "(1024, 73241)\n"
     ]
    }
   ],
   "source": [
    "########################################\n",
    "#    Extracting Channel Time Stream    #\n",
    "########################################  \n",
    "\n",
    "    ##### Create an array of zeros to hold time stream info #####\n",
    "  \n",
    "t_streams = np.zeros((FFT_length, ratio-1), dtype=complex)\n",
    "print(np.shape(t_streams))\n",
    "\n",
    "    ##### Slice and dice array to convert frames into time streams #####\n",
    "t_mags = np.transpose(mags)\n",
    "t_streams = t_mags\n"
   ]
  },
  {
   "cell_type": "code",
   "execution_count": 14,
   "metadata": {},
   "outputs": [],
   "source": [
    "#########################################\n",
    "#    Mixing Channel Timestreams Down    #\n",
    "#########################################      \n",
    "\n",
    "    ##### Create time array to control internally generated wave #####\n",
    "\n",
    "times_2 = np.linspace(0, run_time, ratio-1)\n",
    "\n",
    "    ##### Create generated signal inside FPGA at square wave frequency #####\n",
    "    \n",
    "gen_i, gen_q = cool_wave(1, square_freq, times_2)\n"
   ]
  },
  {
   "cell_type": "code",
   "execution_count": 15,
   "metadata": {},
   "outputs": [],
   "source": [
    "##### Create array to store dc streams of mixed data #####\n",
    "\n",
    "dc_streams = []\n",
    "\n",
    "    ##### Now mix each channel timestream with a generated wave at square frequency #####\n",
    "    \n",
    "for i in range(len(t_streams)-1):\n",
    "    downmix = (t_streams[i])* gen_i\n",
    "    dc_streams.append(downmix)\n"
   ]
  },
  {
   "cell_type": "code",
   "execution_count": 16,
   "metadata": {
    "scrolled": true
   },
   "outputs": [
    {
     "data": {
      "image/png": "[encoded data removed]",
      "text/plain": [
       "<Figure size 432x288 with 1 Axes>"
      ]
     },
     "metadata": {
      "needs_background": "light"
     },
     "output_type": "display_data"
    }
   ],
   "source": [
    "##################################\n",
    "#     For plotting at the end    #\n",
    "##################################\n",
    "# Now create array which contains frequency span of FFT\n",
    "n = 1024\n",
    "# print(i_mix.size)\n",
    "#timestep = 1/adc_clk\n",
    "# note this value comes from the linspace used for the time array. length/number of samples\n",
    "#fft_freq = np.fft.fftfreq(n, d=timestep)\n",
    "\n",
    "#plt.plot(fft_freq, (spec.real**2 + spec.imag**2))\n",
    "#plt.plot(fft_freq, (fft_frames[25]**2 + fft_frames[25]**2))\n",
    "#plt.xlim(0, 200)\n",
    "\n",
    "plt.plot(times_2, dc_streams[82])\n",
    "\n",
    "plt.show()"
   ]
  },
  {
   "cell_type": "code",
   "execution_count": 17,
   "metadata": {},
   "outputs": [
    {
     "data": {
      "text/plain": [
       "[<matplotlib.lines.Line2D at 0x171ac6758d0>]"
      ]
     },
     "execution_count": 17,
     "metadata": {},
     "output_type": "execute_result"
    },
    {
     "data": {
      "image/png": "[encoded data removed]",
      "text/plain": [
       "<Figure size 432x288 with 1 Axes>"
      ]
     },
     "metadata": {
      "needs_background": "light"
     },
     "output_type": "display_data"
    }
   ],
   "source": [
    "##### MAKING A CHEEKY INTEGRATOR #####\n",
    "\n",
    "N  = 5    # Filter order\n",
    "Wn = 0.005 # Cutoff frequency\n",
    "B, A = sig.butter(N, Wn, output='ba')\n",
    "dc_fil = sig.filtfilt(B,A,dc_streams[82])\n",
    "plt.plot(times_2, dc_fil)"
   ]
  },
  {
   "cell_type": "code",
   "execution_count": 18,
   "metadata": {},
   "outputs": [
    {
     "data": {
      "text/plain": [
       "(0, 200000)"
      ]
     },
     "execution_count": 18,
     "metadata": {},
     "output_type": "execute_result"
    },
    {
     "data": {
      "image/png": "[encoded data removed]",
      "text/plain": [
       "<Figure size 432x288 with 1 Axes>"
      ]
     },
     "metadata": {
      "needs_background": "light"
     },
     "output_type": "display_data"
    }
   ],
   "source": [
    "downmix = np.fft.fft(np.real(t_streams[82]) + 1j*(np.imag(t_streams[82])), n = FFT_length)\n",
    "final = np.sqrt(np.real(downmix)**2 + np.imag(downmix)**2)\n",
    "\n",
    "# Now create array which contains frequency span of FFT\n",
    "n = 1024\n",
    "# print(i_mix.size)\n",
    "timestep = 1024/adc_clk\n",
    "# note this value comes from the linspace used for the time array. length/number of samples\n",
    "fft_freq = np.fft.fftfreq(n, d=timestep)\n",
    "plt.plot(fft_freq, final)\n",
    "plt.xlim(0, 200 * 10 **3)\n"
   ]
  },
  {
   "cell_type": "code",
   "execution_count": 19,
   "metadata": {},
   "outputs": [
    {
     "data": {
      "image/png": "[encoded data removed]",
      "text/plain": [
       "<Figure size 432x288 with 1 Axes>"
      ]
     },
     "metadata": {
      "needs_background": "light"
     },
     "output_type": "display_data"
    }
   ],
   "source": [
    "plt.plot(times_2, t_streams[82])\n",
    "plt.xlim(0, .0002)\n",
    "plt.show()"
   ]
  }
 ],
 "metadata": {
  "kernelspec": {
   "display_name": "Python 3",
   "language": "python",
   "name": "python3"
  },
  "language_info": {
   "codemirror_mode": {
    "name": "ipython",
    "version": 3
   },
   "file_extension": ".py",
   "mimetype": "text/x-python",
   "name": "python",
   "nbconvert_exporter": "python",
   "pygments_lexer": "ipython3",
   "version": "3.7.3"
  }
 },
 "nbformat": 4,
 "nbformat_minor": 2
}
